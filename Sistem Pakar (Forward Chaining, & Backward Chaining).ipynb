{
  "nbformat": 4,
  "nbformat_minor": 0,
  "metadata": {
    "colab": {
      "provenance": []
    },
    "kernelspec": {
      "name": "python3",
      "display_name": "Python 3"
    },
    "language_info": {
      "name": "python"
    }
  },
  "cells": [
    {
      "cell_type": "code",
      "source": [
        "!pip install experta"
      ],
      "metadata": {
        "colab": {
          "base_uri": "https://localhost:8080/"
        },
        "id": "y-WfOnXan_KO",
        "outputId": "f724a5a5-49f4-43c1-9cd6-358257e6b149"
      },
      "execution_count": null,
      "outputs": [
        {
          "output_type": "stream",
          "name": "stdout",
          "text": [
            "Requirement already satisfied: experta in /usr/local/lib/python3.11/dist-packages (1.9.4)\n",
            "Requirement already satisfied: frozendict==1.2 in /usr/local/lib/python3.11/dist-packages (from experta) (1.2)\n",
            "Requirement already satisfied: schema==0.6.7 in /usr/local/lib/python3.11/dist-packages (from experta) (0.6.7)\n"
          ]
        }
      ]
    },
    {
      "cell_type": "code",
      "execution_count": null,
      "metadata": {
        "colab": {
          "base_uri": "https://localhost:8080/"
        },
        "id": "3B3bXNwgnrJs",
        "outputId": "e37bb7f5-b2f8-4fba-e2a1-461233b1ea82"
      },
      "outputs": [
        {
          "output_type": "stream",
          "name": "stdout",
          "text": [
            "Requirement already satisfied: frozendict in /usr/local/lib/python3.11/dist-packages (1.2)\n",
            "Collecting frozendict\n",
            "  Downloading frozendict-2.4.6-py311-none-any.whl.metadata (23 kB)\n",
            "Downloading frozendict-2.4.6-py311-none-any.whl (16 kB)\n",
            "Installing collected packages: frozendict\n",
            "  Attempting uninstall: frozendict\n",
            "    Found existing installation: frozendict 1.2\n",
            "    Uninstalling frozendict-1.2:\n",
            "      Successfully uninstalled frozendict-1.2\n",
            "\u001b[31mERROR: pip's dependency resolver does not currently take into account all the packages that are installed. This behaviour is the source of the following dependency conflicts.\n",
            "experta 1.9.4 requires frozendict==1.2, but you have frozendict 2.4.6 which is incompatible.\u001b[0m\u001b[31m\n",
            "\u001b[0mSuccessfully installed frozendict-2.4.6\n"
          ]
        }
      ],
      "source": [
        "!pip install --upgrade frozendict"
      ]
    },
    {
      "cell_type": "code",
      "source": [
        "from experta import *\n",
        "\n",
        "class Diagnosis(KnowledgeEngine):\n",
        "\n",
        "  @Rule(Fact(cough=True) & Fact(fever=True) & Fact(fatigue=True))\n",
        "  def flu(self):\n",
        "    print(\"Diagnosis: You may have the flu.\")\n",
        "\n",
        "  @Rule(Fact(cough=True) & Fact(fever=True) & Fact(breathing_difficulty=True))\n",
        "  def pneumonia(self):\n",
        "    print(\"Diagnosis: You may have pneumonia.\")\n",
        "\n",
        "  @Rule(Fact(sneezing=True) & Fact(runny_nose=True) & Fact(cough=False))\n",
        "  def cold(self):\n",
        "    print(\"Diagnosis: You may have a common cold.\")\n",
        "\n",
        "  @Rule(Fact(sore_throat=True) & Fact(fever=True))\n",
        "  def throat_infection(self):\n",
        "    print(\"Diagnosis: You may have a Throat infection.\")\n",
        "\n",
        "  @Rule(Fact(cough=False) & Fact(fever=True) & Fact(fatigure=False))\n",
        "  def healthy(self):\n",
        "    print(\"Diagnosis: You seem to be healthy.\")\n",
        "\n",
        "\n",
        "\n",
        "\n",
        "def get_input():\n",
        "  \"\"\"Helper function to get user input as boolean (yes/no)\"\"\"\n",
        "  def ask_question(question):\n",
        "    return input(question + \" (yes/no): \").strip().lower() == \"yes\"\n",
        "\n",
        "  return {\n",
        "      \"cough\": ask_question(\"Do you have a cough?\"),\n",
        "      \"fever\": ask_question(\"Do you have a fever?\"),\n",
        "      \"fatigue\": ask_question(\"Do you feel fatigued?\"),\n",
        "      \"breathing Difficulty\": ask_question(\"Do you have difficulty breathing?\"),\n",
        "      \"Sneezing\": ask_question(\"Are you sneezing?\"),\n",
        "      \"Runny Nose\": ask_question(\"Do you have a runny nose?\"),\n",
        "      \"Sore Throat\": ask_question(\"Do you have a sore throat?\"),\n",
        "\n",
        "  }\n",
        "\n",
        "\n",
        "\n",
        "# Running the Expert System\n",
        "if __name__ == \"__main__\":\n",
        "  symptoms = get_input()\n",
        "  engine = Diagnosis()\n",
        "  engine.reset()\n",
        "\n",
        "  for symptom, present in symptoms.items():\n",
        "    engine.declare(Fact(**{symptom: present}))\n",
        "\n",
        "  engine.run()\n",
        "\n",
        "\n"
      ],
      "metadata": {
        "colab": {
          "base_uri": "https://localhost:8080/"
        },
        "id": "g6cHRvzloLnV",
        "outputId": "76e909a2-e40b-4bf7-d3f0-3cc858a2fa45"
      },
      "execution_count": null,
      "outputs": [
        {
          "output_type": "stream",
          "name": "stdout",
          "text": [
            "Do you have a cough? (yes/no): yes\n",
            "Do you have a fever? (yes/no): yes\n",
            "Do you feel fatigued? (yes/no): yes\n",
            "Do you have difficulty breathing? (yes/no): no\n",
            "Are you sneezing? (yes/no): no\n",
            "Do you have a runny nose? (yes/no): no\n",
            "Do you have a sore throat? (yes/no): no\n",
            "Diagnosis: You may have the flu.\n"
          ]
        }
      ]
    },
    {
      "cell_type": "code",
      "source": [
        "from experta import *\n",
        "\n",
        "class SistemPakarMedis(KnowledgeEngine):\n",
        "\n",
        "  @Rule(Fact(demam=True) & Fact(batuk=True))\n",
        "  def flu(self):\n",
        "    print(\"Diagnosis: Flu.\")\n",
        "\n",
        "  @Rule(Fact(sakit_tenggorokan=True) & Fact(demam=True))\n",
        "  def throat_infection(self):\n",
        "    print(\"Diagnosis: Radang tenggorokan.\")\n",
        "\n",
        "  @Rule(Fact(nyeri_otot=True) & Fact(nyeri_perut=True))\n",
        "  def hernia(self):\n",
        "    print(\"Diagnosis: Hernia. Innalilahi\")\n",
        "\n",
        "#Running the Expert System\n",
        "engine = SistemPakarMedis()\n",
        "engine.reset()\n",
        "engine.declare(Fact(nyeri_otot=True))\n",
        "engine.declare(Fact(nyeri_perut=True))\n",
        "engine.run()"
      ],
      "metadata": {
        "colab": {
          "base_uri": "https://localhost:8080/"
        },
        "id": "RQLCanVS0Ezw",
        "outputId": "d1f8570a-c40c-46b4-9a4e-6433ac7da589"
      },
      "execution_count": null,
      "outputs": [
        {
          "output_type": "stream",
          "name": "stdout",
          "text": [
            "Diagnosis: Hernia. Innalilahi\n"
          ]
        }
      ]
    },
    {
      "cell_type": "code",
      "source": [
        "def forward_chaining(facts, rules):\n",
        "  inferred = set(facts)\n",
        "  changed = True\n",
        "  while changed:\n",
        "    changed = False\n",
        "    for rule in rules:\n",
        "        if rule[\"if\"].issubset(inferred) and rule[\"then\"] not in inferred:\n",
        "          inferred.add(rule['then'])\n",
        "          changed = True\n",
        "  return inferred\n",
        "\n",
        "facts = (\"has_feathers\", \"has_beak\", \"carnivore\")\n",
        "rules = [\n",
        "  {\"if\": {\"has_feathers\", \"has_beak\"}, \"then\": \"is_bird\"},\n",
        "  {\"if\": {\"lays_egg\", \"is_bird\"}, \"then\": \"is_chicken\"},\n",
        "  {\"if\": {\"cannot_fly\", \"is_bird\"}, \"then\": \"is_penguin\"},\n",
        "  {\"if\": {\"carnivora\", \"is_bird\"}, \"then\": \"is_eagle\"}\n",
        "]\n",
        "\n",
        "result = forward_chaining(facts, rules)\n",
        "print(\"Inferred facts:\", result)\n"
      ],
      "metadata": {
        "colab": {
          "base_uri": "https://localhost:8080/"
        },
        "id": "ml4nOJdgDErU",
        "outputId": "3a21d21d-441a-4a5f-9464-ca9d370bdfce"
      },
      "execution_count": null,
      "outputs": [
        {
          "output_type": "stream",
          "name": "stdout",
          "text": [
            "Inferred facts: {'is_bird', 'has_feathers', 'has_beak', 'carnivore'}\n"
          ]
        }
      ]
    },
    {
      "cell_type": "code",
      "source": [
        "def backward_chaining(goal, facts, rules):\n",
        "  if goal in facts:\n",
        "    return True\n",
        "  for rule in rules:\n",
        "    if rule[\"then\"] == goal:\n",
        "      if all(backward_chaining(cond, facts, rules) for cond in rule[\"if\"]):\n",
        "        return True\n",
        "  return False\n",
        "\n",
        "facts = (\"likes_computers\", \"solves_problems\", \"likes_to_design\")\n",
        "rules = [\n",
        "  {\"if\": {\"likes_computers\", \"solves_problems\"}, \"then\": \"should_be_engineer\"},\n",
        "  {\"if\": {\"should_be_engineer\", \"likes_programming\"}, \"then\": \"software_engineer\"},\n",
        "  {\"if\": {\"should_be_engineer\", \"likes_to_design\"}, \"then\": \"UI/UX_engineer\"},\n",
        "]\n",
        "\n",
        "goal = \"UI/UX_engineer\"\n",
        "result = backward_chaining(goal, facts, rules)\n",
        "print(f\"Is '{goal}' provable? ->\", result)"
      ],
      "metadata": {
        "colab": {
          "base_uri": "https://localhost:8080/"
        },
        "id": "lh1WlJUmDJGg",
        "outputId": "5e807f16-b0f9-4ce2-e42a-d47bb2af1e3a"
      },
      "execution_count": null,
      "outputs": [
        {
          "output_type": "stream",
          "name": "stdout",
          "text": [
            "Is 'UI/UX_engineer' provable? -> True\n"
          ]
        }
      ]
    },
    {
      "cell_type": "code",
      "source": [
        "def forward_chaining(facts, rules):\n",
        "    inferred = set(facts)\n",
        "    changed = True\n",
        "    while changed:\n",
        "        changed = False\n",
        "        for rule in rules:\n",
        "            if rule[\"if\"].issubset(inferred) and rule[\"then\"] not in inferred:\n",
        "                inferred.add(rule[\"then\"])\n",
        "                changed = True\n",
        "    return inferred\n",
        "\n",
        "facta1 = \"has_feathers\"\n",
        "facta2 = \"has_beak\"\n",
        "facts = (facta1, facta2)\n",
        "rules = [\n",
        "    {\"if\": {\"has_feathers\", \"has_beak\"}, \"then\": \"is_bird\"}\n",
        "]\n",
        "result = forward_chaining(facts, rules)\n",
        "print(\"Inferred facts:\", result)"
      ],
      "metadata": {
        "colab": {
          "base_uri": "https://localhost:8080/"
        },
        "id": "TZF6VfsbDc_b",
        "outputId": "4518c53e-57a1-48aa-901c-1747e699edcf"
      },
      "execution_count": null,
      "outputs": [
        {
          "output_type": "stream",
          "name": "stdout",
          "text": [
            "Inferred facts: {'is_bird', 'has_feathers', 'has_beak'}\n"
          ]
        }
      ]
    },
    {
      "cell_type": "code",
      "source": [
        "def backward_chaining(goal, facts, rules):\n",
        "    if goal in facts:\n",
        "        return True\n",
        "    for rule in rules:\n",
        "        if rule[\"then\"] == goal:\n",
        "            if all(backward_chaining(cond, facts, rules) for cond in rule[\"if\"]):\n",
        "                return True\n",
        "    return False\n",
        "\n",
        "facts = (\"likes_computers\", \"solves_problems\", \"likes_to_design\", \"creative_thinker\", \"likes_drawing\")\n",
        "rules = [\n",
        "    {\"if\": {\"likes_computers\", \"solves_problems\"}, \"then\": \"should_be_engineer\"},\n",
        "    {\"if\": {\"should_be_engineer\", \"likes_programming\"}, \"then\": \"software_engineer\"},\n",
        "    {\"if\": {\"should_be_engineer\", \"likes_to_design\"}, \"then\": \"UI/UX_engineer\"},\n",
        "\n",
        "    # Aturan baru:\n",
        "    {\"if\": {\"creative_thinker\", \"likes_drawing\"}, \"then\": \"should_be_designer\"},\n",
        "    {\"if\": {\"should_be_designer\", \"likes_to_design\"}, \"then\": \"graphic_designer\"},\n",
        "    {\"if\": {\"likes_computers\", \"likes_to_design\"}, \"then\": \"potential_UI_designer\"},\n",
        "    {\"if\": {\"potential_UI_designer\", \"creative_thinker\"}, \"then\": \"UI/UX_engineer\"},\n",
        "]\n",
        "\n",
        "goal = \"UI/UX_engineer\"\n",
        "result = backward_chaining(goal, facts, rules)\n",
        "print(f\"Is '{goal}' provable? ->\", result)\n"
      ],
      "metadata": {
        "colab": {
          "base_uri": "https://localhost:8080/"
        },
        "id": "2iHBM4dKoL2b",
        "outputId": "d53cdd77-1e79-4b3a-9bd8-6adc94bd6bc5"
      },
      "execution_count": 1,
      "outputs": [
        {
          "output_type": "stream",
          "name": "stdout",
          "text": [
            "Is 'UI/UX_engineer' provable? -> True\n"
          ]
        }
      ]
    }
  ]
}